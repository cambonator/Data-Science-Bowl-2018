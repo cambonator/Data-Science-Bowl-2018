{
 "cells": [
  {
   "cell_type": "code",
   "execution_count": null,
   "metadata": {},
   "outputs": [],
   "source": [
    "# Run length encode/decode code\n",
    "# https://gist.github.com/nvictus/66627b580c13068589957d6ab0919e66"
   ]
  },
  {
   "cell_type": "code",
   "execution_count": 1,
   "metadata": {},
   "outputs": [],
   "source": [
    "# Import some data\n",
    "import pandas as pd\n",
    "train_labels = pd.read_csv('stage1_train_labels.csv')"
   ]
  },
  {
   "cell_type": "code",
   "execution_count": null,
   "metadata": {},
   "outputs": [],
   "source": [
    "# To unflatten:\n",
    "#https://docs.scipy.org/doc/numpy/reference/generated/numpy.unravel_index.html"
   ]
  },
  {
   "cell_type": "code",
   "execution_count": null,
   "metadata": {},
   "outputs": [],
   "source": [
    "def rldecode(starts, lengths, values, minlength=None):\n",
    "    \"\"\"\n",
    "    Decode a run-length encoding of a 1D array.\n",
    "    \n",
    "    Parameters\n",
    "    ----------\n",
    "    starts, lengths, values : 1D array_like\n",
    "        The run-length encoding.\n",
    "    minlength : int, optional\n",
    "        Minimum length of the output array.\n",
    "    \n",
    "    Returns\n",
    "    -------\n",
    "    1D array. Missing data will be filled with NaNs.\n",
    "    \n",
    "    \"\"\"\n",
    "    starts, lengths, values = map(np.asarray, (starts, lengths, values))\n",
    "    # TODO: check validity of rlhttps://docs.scipy.org/doc/numpy/reference/generated/numpy.unravel_index.htmle\n",
    "    ends = starts + lengths\n",
    "    n = ends[-1]\n",
    "    if minlength is not None:\n",
    "        n = max(minlength, n)\n",
    "    x = np.full(n, np.nan)\n",
    "    for lo, hi, val in zip(starts, ends, values):\n",
    "        x[lo:hi] = val\n",
    "    return x\n"
   ]
  }
 ],
 "metadata": {
  "kernelspec": {
   "display_name": "Python 3",
   "language": "python",
   "name": "python3"
  },
  "language_info": {
   "codemirror_mode": {
    "name": "ipython",
    "version": 3
   },
   "file_extension": ".py",
   "mimetype": "text/x-python",
   "name": "python",
   "nbconvert_exporter": "python",
   "pygments_lexer": "ipython3",
   "version": "3.6.4"
  }
 },
 "nbformat": 4,
 "nbformat_minor": 2
}
